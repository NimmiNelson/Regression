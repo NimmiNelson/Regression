{
 "cells": [
  {
   "cell_type": "markdown",
   "id": "bf73e87a",
   "metadata": {},
   "source": [
    "# Linear Regression"
   ]
  },
  {
   "cell_type": "code",
   "execution_count": 370,
   "id": "8f00bb44",
   "metadata": {},
   "outputs": [],
   "source": [
    "import pandas as pd                 #importing the libraries\n",
    "import numpy as np\n",
    "import seaborn as sns\n",
    "import matplotlib.pyplot as plt"
   ]
  },
  {
   "cell_type": "code",
   "execution_count": 371,
   "id": "fa01fbaf",
   "metadata": {},
   "outputs": [],
   "source": [
    "car_data=pd.read_csv(r\"C:\\Users\\DELL\\Downloads\\car_age_price.csv\")   #Data Exploration"
   ]
  },
  {
   "cell_type": "code",
   "execution_count": 372,
   "id": "f0fb8758",
   "metadata": {},
   "outputs": [
    {
     "data": {
      "text/html": [
       "<div>\n",
       "<style scoped>\n",
       "    .dataframe tbody tr th:only-of-type {\n",
       "        vertical-align: middle;\n",
       "    }\n",
       "\n",
       "    .dataframe tbody tr th {\n",
       "        vertical-align: top;\n",
       "    }\n",
       "\n",
       "    .dataframe thead th {\n",
       "        text-align: right;\n",
       "    }\n",
       "</style>\n",
       "<table border=\"1\" class=\"dataframe\">\n",
       "  <thead>\n",
       "    <tr style=\"text-align: right;\">\n",
       "      <th></th>\n",
       "      <th>Year</th>\n",
       "      <th>Price</th>\n",
       "    </tr>\n",
       "  </thead>\n",
       "  <tbody>\n",
       "    <tr>\n",
       "      <th>0</th>\n",
       "      <td>2018</td>\n",
       "      <td>465000</td>\n",
       "    </tr>\n",
       "    <tr>\n",
       "      <th>1</th>\n",
       "      <td>2019</td>\n",
       "      <td>755000</td>\n",
       "    </tr>\n",
       "    <tr>\n",
       "      <th>2</th>\n",
       "      <td>2019</td>\n",
       "      <td>700000</td>\n",
       "    </tr>\n",
       "    <tr>\n",
       "      <th>3</th>\n",
       "      <td>2018</td>\n",
       "      <td>465000</td>\n",
       "    </tr>\n",
       "    <tr>\n",
       "      <th>4</th>\n",
       "      <td>2018</td>\n",
       "      <td>465000</td>\n",
       "    </tr>\n",
       "  </tbody>\n",
       "</table>\n",
       "</div>"
      ],
      "text/plain": [
       "   Year   Price\n",
       "0  2018  465000\n",
       "1  2019  755000\n",
       "2  2019  700000\n",
       "3  2018  465000\n",
       "4  2018  465000"
      ]
     },
     "execution_count": 372,
     "metadata": {},
     "output_type": "execute_result"
    }
   ],
   "source": [
    "car_data.head()"
   ]
  },
  {
   "cell_type": "code",
   "execution_count": 373,
   "id": "89546988",
   "metadata": {},
   "outputs": [
    {
     "data": {
      "text/plain": [
       "(112, 2)"
      ]
     },
     "execution_count": 373,
     "metadata": {},
     "output_type": "execute_result"
    }
   ],
   "source": [
    "car_data.shape"
   ]
  },
  {
   "cell_type": "code",
   "execution_count": 374,
   "id": "a531aa70",
   "metadata": {},
   "outputs": [
    {
     "data": {
      "text/html": [
       "<div>\n",
       "<style scoped>\n",
       "    .dataframe tbody tr th:only-of-type {\n",
       "        vertical-align: middle;\n",
       "    }\n",
       "\n",
       "    .dataframe tbody tr th {\n",
       "        vertical-align: top;\n",
       "    }\n",
       "\n",
       "    .dataframe thead th {\n",
       "        text-align: right;\n",
       "    }\n",
       "</style>\n",
       "<table border=\"1\" class=\"dataframe\">\n",
       "  <thead>\n",
       "    <tr style=\"text-align: right;\">\n",
       "      <th></th>\n",
       "      <th>Year</th>\n",
       "      <th>Price</th>\n",
       "    </tr>\n",
       "  </thead>\n",
       "  <tbody>\n",
       "    <tr>\n",
       "      <th>count</th>\n",
       "      <td>112.000000</td>\n",
       "      <td>112.000000</td>\n",
       "    </tr>\n",
       "    <tr>\n",
       "      <th>mean</th>\n",
       "      <td>2016.669643</td>\n",
       "      <td>483866.044643</td>\n",
       "    </tr>\n",
       "    <tr>\n",
       "      <th>std</th>\n",
       "      <td>1.629616</td>\n",
       "      <td>91217.450533</td>\n",
       "    </tr>\n",
       "    <tr>\n",
       "      <th>min</th>\n",
       "      <td>2013.000000</td>\n",
       "      <td>300000.000000</td>\n",
       "    </tr>\n",
       "    <tr>\n",
       "      <th>25%</th>\n",
       "      <td>2015.000000</td>\n",
       "      <td>423750.000000</td>\n",
       "    </tr>\n",
       "    <tr>\n",
       "      <th>50%</th>\n",
       "      <td>2017.000000</td>\n",
       "      <td>500000.000000</td>\n",
       "    </tr>\n",
       "    <tr>\n",
       "      <th>75%</th>\n",
       "      <td>2017.000000</td>\n",
       "      <td>550000.000000</td>\n",
       "    </tr>\n",
       "    <tr>\n",
       "      <th>max</th>\n",
       "      <td>2020.000000</td>\n",
       "      <td>755000.000000</td>\n",
       "    </tr>\n",
       "  </tbody>\n",
       "</table>\n",
       "</div>"
      ],
      "text/plain": [
       "              Year          Price\n",
       "count   112.000000     112.000000\n",
       "mean   2016.669643  483866.044643\n",
       "std       1.629616   91217.450533\n",
       "min    2013.000000  300000.000000\n",
       "25%    2015.000000  423750.000000\n",
       "50%    2017.000000  500000.000000\n",
       "75%    2017.000000  550000.000000\n",
       "max    2020.000000  755000.000000"
      ]
     },
     "execution_count": 374,
     "metadata": {},
     "output_type": "execute_result"
    }
   ],
   "source": [
    "car_data.describe()"
   ]
  },
  {
   "cell_type": "code",
   "execution_count": 375,
   "id": "8428f937",
   "metadata": {},
   "outputs": [
    {
     "name": "stdout",
     "output_type": "stream",
     "text": [
      "<class 'pandas.core.frame.DataFrame'>\n",
      "RangeIndex: 112 entries, 0 to 111\n",
      "Data columns (total 2 columns):\n",
      " #   Column  Non-Null Count  Dtype\n",
      "---  ------  --------------  -----\n",
      " 0   Year    112 non-null    int64\n",
      " 1   Price   112 non-null    int64\n",
      "dtypes: int64(2)\n",
      "memory usage: 1.9 KB\n"
     ]
    }
   ],
   "source": [
    "car_data.info()"
   ]
  },
  {
   "cell_type": "code",
   "execution_count": 376,
   "id": "8e33c039",
   "metadata": {},
   "outputs": [
    {
     "data": {
      "text/plain": [
       "Text(0.5, 1.0, 'Price of Car v/s Year')"
      ]
     },
     "execution_count": 376,
     "metadata": {},
     "output_type": "execute_result"
    },
    {
     "data": {
      "image/png": "[encoded data removed]",
      "text/plain": [
       "<Figure size 640x480 with 1 Axes>"
      ]
     },
     "metadata": {},
     "output_type": "display_data"
    }
   ],
   "source": [
    "plt.bar(car_data['Year'],car_data['Price'],color='green')\n",
    "plt.xlabel(\"Year of making\")\n",
    "plt.ylabel(\"Second-hand Price of Hyundai grand i10 car\")\n",
    "plt.title(\"Price of Car v/s Year\")"
   ]
  },
  {
   "cell_type": "code",
   "execution_count": 377,
   "id": "04edb5c0",
   "metadata": {},
   "outputs": [
    {
     "data": {
      "text/plain": [
       "Year     0\n",
       "Price    0\n",
       "dtype: int64"
      ]
     },
     "execution_count": 377,
     "metadata": {},
     "output_type": "execute_result"
    }
   ],
   "source": [
    "car_data.isna().sum()                  #checking if there is any null values"
   ]
  },
  {
   "cell_type": "code",
   "execution_count": 378,
   "id": "0617527e",
   "metadata": {},
   "outputs": [
    {
     "data": {
      "text/plain": [
       "Index(['Year', 'Price'], dtype='object')"
      ]
     },
     "execution_count": 378,
     "metadata": {},
     "output_type": "execute_result"
    }
   ],
   "source": [
    "car_data.columns                #Columns in the dataset"
   ]
  },
  {
   "cell_type": "code",
   "execution_count": 379,
   "id": "031950a9",
   "metadata": {},
   "outputs": [
    {
     "data": {
      "text/plain": [
       "<Axes: >"
      ]
     },
     "execution_count": 379,
     "metadata": {},
     "output_type": "execute_result"
    },
    {
     "data": {
      "image/png": "[encoded data removed]",
      "text/plain": [
       "<Figure size 640x480 with 2 Axes>"
      ]
     },
     "metadata": {},
     "output_type": "display_data"
    }
   ],
   "source": [
    "corrmatrix=car_data.corr()             #Finding the correlation between the 2 variables.\n",
    "sns.heatmap(corrmatrix,annot=True)"
   ]
  },
  {
   "cell_type": "markdown",
   "id": "194592d1",
   "metadata": {},
   "source": [
    "We can see that,there is a high correlation between the variables 'Year' and 'Price'.\n"
   ]
  },
  {
   "cell_type": "code",
   "execution_count": 380,
   "id": "84e928d7",
   "metadata": {},
   "outputs": [],
   "source": [
    "y=car_data['Price']                           #independent and dependent variables are defined\n",
    "x=car_data.drop(['Price'],axis=1)             #Here,'Price' is the dependent variable and 'Year' is the independent variable."
   ]
  },
  {
   "cell_type": "code",
   "execution_count": 381,
   "id": "00f2925c",
   "metadata": {},
   "outputs": [
    {
     "data": {
      "text/plain": [
       "0    465000\n",
       "1    755000\n",
       "2    700000\n",
       "3    465000\n",
       "4    465000\n",
       "Name: Price, dtype: int64"
      ]
     },
     "execution_count": 381,
     "metadata": {},
     "output_type": "execute_result"
    }
   ],
   "source": [
    "y.head()"
   ]
  },
  {
   "cell_type": "code",
   "execution_count": 382,
   "id": "039ba97d",
   "metadata": {},
   "outputs": [
    {
     "data": {
      "text/html": [
       "<div>\n",
       "<style scoped>\n",
       "    .dataframe tbody tr th:only-of-type {\n",
       "        vertical-align: middle;\n",
       "    }\n",
       "\n",
       "    .dataframe tbody tr th {\n",
       "        vertical-align: top;\n",
       "    }\n",
       "\n",
       "    .dataframe thead th {\n",
       "        text-align: right;\n",
       "    }\n",
       "</style>\n",
       "<table border=\"1\" class=\"dataframe\">\n",
       "  <thead>\n",
       "    <tr style=\"text-align: right;\">\n",
       "      <th></th>\n",
       "      <th>Year</th>\n",
       "    </tr>\n",
       "  </thead>\n",
       "  <tbody>\n",
       "    <tr>\n",
       "      <th>0</th>\n",
       "      <td>2018</td>\n",
       "    </tr>\n",
       "    <tr>\n",
       "      <th>1</th>\n",
       "      <td>2019</td>\n",
       "    </tr>\n",
       "    <tr>\n",
       "      <th>2</th>\n",
       "      <td>2019</td>\n",
       "    </tr>\n",
       "    <tr>\n",
       "      <th>3</th>\n",
       "      <td>2018</td>\n",
       "    </tr>\n",
       "    <tr>\n",
       "      <th>4</th>\n",
       "      <td>2018</td>\n",
       "    </tr>\n",
       "  </tbody>\n",
       "</table>\n",
       "</div>"
      ],
      "text/plain": [
       "   Year\n",
       "0  2018\n",
       "1  2019\n",
       "2  2019\n",
       "3  2018\n",
       "4  2018"
      ]
     },
     "execution_count": 382,
     "metadata": {},
     "output_type": "execute_result"
    }
   ],
   "source": [
    "x.head()"
   ]
  },
  {
   "cell_type": "code",
   "execution_count": 383,
   "id": "c1e3f9d9",
   "metadata": {},
   "outputs": [],
   "source": [
    "from sklearn.model_selection import train_test_split"
   ]
  },
  {
   "cell_type": "code",
   "execution_count": 384,
   "id": "f1898113",
   "metadata": {},
   "outputs": [],
   "source": [
    "x_train,x_test,y_train,y_test=train_test_split(x,y,test_size=0.20,random_state=40)     #splitting the data for testing\n",
    "#Here,training set has 80% of the data and the test set has 20% of the data."
   ]
  },
  {
   "cell_type": "code",
   "execution_count": 385,
   "id": "1fc01ba4",
   "metadata": {},
   "outputs": [
    {
     "data": {
      "text/plain": [
       "(    Year\n",
       " 45  2018\n",
       " 39  2020\n",
       " 38  2018\n",
       " 62  2017\n",
       " 32  2017\n",
       " ..   ...\n",
       " 56  2014\n",
       " 37  2017\n",
       " 7   2017\n",
       " 91  2017\n",
       " 70  2015\n",
       " \n",
       " [89 rows x 1 columns],\n",
       "      Year\n",
       " 48   2016\n",
       " 72   2015\n",
       " 80   2015\n",
       " 77   2015\n",
       " 17   2017\n",
       " 29   2017\n",
       " 47   2018\n",
       " 2    2019\n",
       " 111  2015\n",
       " 64   2015\n",
       " 23   2017\n",
       " 4    2018\n",
       " 98   2020\n",
       " 16   2017\n",
       " 40   2019\n",
       " 42   2018\n",
       " 76   2015\n",
       " 81   2014\n",
       " 11   2018\n",
       " 15   2017\n",
       " 82   2015\n",
       " 85   2015\n",
       " 51   2018)"
      ]
     },
     "execution_count": 385,
     "metadata": {},
     "output_type": "execute_result"
    }
   ],
   "source": [
    "x_train,x_test"
   ]
  },
  {
   "cell_type": "code",
   "execution_count": 386,
   "id": "d924a801",
   "metadata": {},
   "outputs": [
    {
     "data": {
      "text/plain": [
       "(45    450000\n",
       " 39    545000\n",
       " 38    475000\n",
       " 62    540000\n",
       " 32    550000\n",
       "        ...  \n",
       " 56    341000\n",
       " 37    486000\n",
       " 7     575000\n",
       " 91    520000\n",
       " 70    450000\n",
       " Name: Price, Length: 89, dtype: int64,\n",
       " 48     396000\n",
       " 72     300000\n",
       " 80     390000\n",
       " 77     325000\n",
       " 17     550000\n",
       " 29     550000\n",
       " 47     450000\n",
       " 2      700000\n",
       " 111    425000\n",
       " 64     490000\n",
       " 23     550000\n",
       " 4      465000\n",
       " 98     700000\n",
       " 16     500000\n",
       " 40     525000\n",
       " 42     550000\n",
       " 76     450000\n",
       " 81     390000\n",
       " 11     500000\n",
       " 15     500000\n",
       " 82     390000\n",
       " 85     320000\n",
       " 51     550000\n",
       " Name: Price, dtype: int64)"
      ]
     },
     "execution_count": 386,
     "metadata": {},
     "output_type": "execute_result"
    }
   ],
   "source": [
    "y_train,y_test"
   ]
  },
  {
   "cell_type": "code",
   "execution_count": 387,
   "id": "35a39bac",
   "metadata": {},
   "outputs": [],
   "source": [
    "from sklearn.linear_model import LinearRegression     #importing the library for Linear Regression"
   ]
  },
  {
   "cell_type": "code",
   "execution_count": 388,
   "id": "d2454edc",
   "metadata": {},
   "outputs": [],
   "source": [
    "lr=LinearRegression()"
   ]
  },
  {
   "cell_type": "code",
   "execution_count": 389,
   "id": "c650c947",
   "metadata": {},
   "outputs": [],
   "source": [
    "model=lr.fit(x_train,y_train)                    #Fitting the linear regression model"
   ]
  },
  {
   "cell_type": "code",
   "execution_count": 390,
   "id": "b07d2a08",
   "metadata": {},
   "outputs": [],
   "source": [
    "y_pred=model.predict(x_test)"
   ]
  },
  {
   "cell_type": "code",
   "execution_count": 391,
   "id": "243b7e9a",
   "metadata": {},
   "outputs": [
    {
     "data": {
      "text/plain": [
       "array([457777.2114885 , 416363.45852979, 416363.45852979, 416363.45852979,\n",
       "       499190.96444723, 499190.96444723, 540604.71740595, 582018.47036467,\n",
       "       416363.45852979, 416363.45852979, 499190.96444723, 540604.71740595,\n",
       "       623432.22332339, 499190.96444723, 582018.47036467, 540604.71740595,\n",
       "       416363.45852979, 374949.70557106, 540604.71740595, 499190.96444723,\n",
       "       416363.45852979, 416363.45852979, 540604.71740595])"
      ]
     },
     "execution_count": 391,
     "metadata": {},
     "output_type": "execute_result"
    }
   ],
   "source": [
    "y_pred                    #Predicting the values"
   ]
  },
  {
   "cell_type": "code",
   "execution_count": 392,
   "id": "2d8ca68f",
   "metadata": {},
   "outputs": [
    {
     "data": {
      "text/plain": [
       "(array([457777.2114885 , 416363.45852979, 416363.45852979, 416363.45852979,\n",
       "        499190.96444723, 499190.96444723, 540604.71740595, 582018.47036467,\n",
       "        416363.45852979, 416363.45852979, 499190.96444723, 540604.71740595,\n",
       "        623432.22332339, 499190.96444723, 582018.47036467, 540604.71740595,\n",
       "        416363.45852979, 374949.70557106, 540604.71740595, 499190.96444723,\n",
       "        416363.45852979, 416363.45852979, 540604.71740595]),\n",
       " 48     396000\n",
       " 72     300000\n",
       " 80     390000\n",
       " 77     325000\n",
       " 17     550000\n",
       " 29     550000\n",
       " 47     450000\n",
       " 2      700000\n",
       " 111    425000\n",
       " 64     490000\n",
       " 23     550000\n",
       " 4      465000\n",
       " 98     700000\n",
       " 16     500000\n",
       " 40     525000\n",
       " 42     550000\n",
       " 76     450000\n",
       " 81     390000\n",
       " 11     500000\n",
       " 15     500000\n",
       " 82     390000\n",
       " 85     320000\n",
       " 51     550000\n",
       " Name: Price, dtype: int64)"
      ]
     },
     "execution_count": 392,
     "metadata": {},
     "output_type": "execute_result"
    }
   ],
   "source": [
    "y_pred,y_test"
   ]
  },
  {
   "cell_type": "code",
   "execution_count": 393,
   "id": "c8140ebf",
   "metadata": {},
   "outputs": [],
   "source": [
    "from sklearn.metrics import mean_squared_error,r2_score"
   ]
  },
  {
   "cell_type": "code",
   "execution_count": 394,
   "id": "8a2d5166",
   "metadata": {},
   "outputs": [
    {
     "name": "stdout",
     "output_type": "stream",
     "text": [
      "3902822923.307624\n",
      "0.6303199952962191\n"
     ]
    }
   ],
   "source": [
    "print(mean_squared_error(y_test,y_pred))              #Calculating the mean square error and r2 value.\n",
    "print(r2_score(y_test,y_pred))"
   ]
  },
  {
   "cell_type": "code",
   "execution_count": 395,
   "id": "0b1d5528",
   "metadata": {},
   "outputs": [
    {
     "name": "stderr",
     "output_type": "stream",
     "text": [
      "C:\\Users\\DELL\\anaconda3\\lib\\site-packages\\sklearn\\base.py:420: UserWarning: X does not have valid feature names, but LinearRegression was fitted with feature names\n",
      "  warnings.warn(\n"
     ]
    }
   ],
   "source": [
    "a=model.predict([[2022]])                 #predicting the price of the car in the year 2022."
   ]
  },
  {
   "cell_type": "code",
   "execution_count": 396,
   "id": "feb79641",
   "metadata": {},
   "outputs": [
    {
     "data": {
      "text/plain": [
       "array([706259.72924083])"
      ]
     },
     "execution_count": 396,
     "metadata": {},
     "output_type": "execute_result"
    }
   ],
   "source": [
    "a"
   ]
  },
  {
   "cell_type": "markdown",
   "id": "ac2c65e9",
   "metadata": {},
   "source": [
    "The price of the car in the year 2022 is predicted as Rs.706260 approximately.The mean square error is obtained as 3902822923.307624 and the r-square value is obtained as 0.6303199952962191."
   ]
  },
  {
   "cell_type": "markdown",
   "id": "7190e1fb",
   "metadata": {},
   "source": [
    "# Lasso Regression"
   ]
  },
  {
   "cell_type": "code",
   "execution_count": 397,
   "id": "baa3375c",
   "metadata": {},
   "outputs": [],
   "source": [
    "import numpy as np                 #importing the libraries\n",
    "import pandas as pd\n",
    "import seaborn as sns\n",
    "import matplotlib.pyplot as plt"
   ]
  },
  {
   "cell_type": "code",
   "execution_count": 398,
   "id": "83471e29",
   "metadata": {},
   "outputs": [],
   "source": [
    "df=pd.read_csv(r\"C:\\Users\\DELL\\Downloads\\car_age_price.csv\")   #Data exploration"
   ]
  },
  {
   "cell_type": "code",
   "execution_count": 399,
   "id": "328d8e3a",
   "metadata": {},
   "outputs": [
    {
     "data": {
      "text/html": [
       "<div>\n",
       "<style scoped>\n",
       "    .dataframe tbody tr th:only-of-type {\n",
       "        vertical-align: middle;\n",
       "    }\n",
       "\n",
       "    .dataframe tbody tr th {\n",
       "        vertical-align: top;\n",
       "    }\n",
       "\n",
       "    .dataframe thead th {\n",
       "        text-align: right;\n",
       "    }\n",
       "</style>\n",
       "<table border=\"1\" class=\"dataframe\">\n",
       "  <thead>\n",
       "    <tr style=\"text-align: right;\">\n",
       "      <th></th>\n",
       "      <th>Year</th>\n",
       "      <th>Price</th>\n",
       "    </tr>\n",
       "  </thead>\n",
       "  <tbody>\n",
       "    <tr>\n",
       "      <th>0</th>\n",
       "      <td>2018</td>\n",
       "      <td>465000</td>\n",
       "    </tr>\n",
       "    <tr>\n",
       "      <th>1</th>\n",
       "      <td>2019</td>\n",
       "      <td>755000</td>\n",
       "    </tr>\n",
       "    <tr>\n",
       "      <th>2</th>\n",
       "      <td>2019</td>\n",
       "      <td>700000</td>\n",
       "    </tr>\n",
       "    <tr>\n",
       "      <th>3</th>\n",
       "      <td>2018</td>\n",
       "      <td>465000</td>\n",
       "    </tr>\n",
       "    <tr>\n",
       "      <th>4</th>\n",
       "      <td>2018</td>\n",
       "      <td>465000</td>\n",
       "    </tr>\n",
       "  </tbody>\n",
       "</table>\n",
       "</div>"
      ],
      "text/plain": [
       "   Year   Price\n",
       "0  2018  465000\n",
       "1  2019  755000\n",
       "2  2019  700000\n",
       "3  2018  465000\n",
       "4  2018  465000"
      ]
     },
     "execution_count": 399,
     "metadata": {},
     "output_type": "execute_result"
    }
   ],
   "source": [
    "df.head()"
   ]
  },
  {
   "cell_type": "code",
   "execution_count": 400,
   "id": "ef940c96",
   "metadata": {},
   "outputs": [
    {
     "data": {
      "text/html": [
       "<div>\n",
       "<style scoped>\n",
       "    .dataframe tbody tr th:only-of-type {\n",
       "        vertical-align: middle;\n",
       "    }\n",
       "\n",
       "    .dataframe tbody tr th {\n",
       "        vertical-align: top;\n",
       "    }\n",
       "\n",
       "    .dataframe thead th {\n",
       "        text-align: right;\n",
       "    }\n",
       "</style>\n",
       "<table border=\"1\" class=\"dataframe\">\n",
       "  <thead>\n",
       "    <tr style=\"text-align: right;\">\n",
       "      <th></th>\n",
       "      <th>Year</th>\n",
       "      <th>Price</th>\n",
       "    </tr>\n",
       "  </thead>\n",
       "  <tbody>\n",
       "    <tr>\n",
       "      <th>count</th>\n",
       "      <td>112.000000</td>\n",
       "      <td>112.000000</td>\n",
       "    </tr>\n",
       "    <tr>\n",
       "      <th>mean</th>\n",
       "      <td>2016.669643</td>\n",
       "      <td>483866.044643</td>\n",
       "    </tr>\n",
       "    <tr>\n",
       "      <th>std</th>\n",
       "      <td>1.629616</td>\n",
       "      <td>91217.450533</td>\n",
       "    </tr>\n",
       "    <tr>\n",
       "      <th>min</th>\n",
       "      <td>2013.000000</td>\n",
       "      <td>300000.000000</td>\n",
       "    </tr>\n",
       "    <tr>\n",
       "      <th>25%</th>\n",
       "      <td>2015.000000</td>\n",
       "      <td>423750.000000</td>\n",
       "    </tr>\n",
       "    <tr>\n",
       "      <th>50%</th>\n",
       "      <td>2017.000000</td>\n",
       "      <td>500000.000000</td>\n",
       "    </tr>\n",
       "    <tr>\n",
       "      <th>75%</th>\n",
       "      <td>2017.000000</td>\n",
       "      <td>550000.000000</td>\n",
       "    </tr>\n",
       "    <tr>\n",
       "      <th>max</th>\n",
       "      <td>2020.000000</td>\n",
       "      <td>755000.000000</td>\n",
       "    </tr>\n",
       "  </tbody>\n",
       "</table>\n",
       "</div>"
      ],
      "text/plain": [
       "              Year          Price\n",
       "count   112.000000     112.000000\n",
       "mean   2016.669643  483866.044643\n",
       "std       1.629616   91217.450533\n",
       "min    2013.000000  300000.000000\n",
       "25%    2015.000000  423750.000000\n",
       "50%    2017.000000  500000.000000\n",
       "75%    2017.000000  550000.000000\n",
       "max    2020.000000  755000.000000"
      ]
     },
     "execution_count": 400,
     "metadata": {},
     "output_type": "execute_result"
    }
   ],
   "source": [
    "df.describe()"
   ]
  },
  {
   "cell_type": "code",
   "execution_count": 401,
   "id": "167ada93",
   "metadata": {},
   "outputs": [
    {
     "name": "stdout",
     "output_type": "stream",
     "text": [
      "<class 'pandas.core.frame.DataFrame'>\n",
      "RangeIndex: 112 entries, 0 to 111\n",
      "Data columns (total 2 columns):\n",
      " #   Column  Non-Null Count  Dtype\n",
      "---  ------  --------------  -----\n",
      " 0   Year    112 non-null    int64\n",
      " 1   Price   112 non-null    int64\n",
      "dtypes: int64(2)\n",
      "memory usage: 1.9 KB\n"
     ]
    }
   ],
   "source": [
    "df.info()"
   ]
  },
  {
   "cell_type": "code",
   "execution_count": 402,
   "id": "fb7bf40c",
   "metadata": {},
   "outputs": [
    {
     "data": {
      "text/plain": [
       "(112, 2)"
      ]
     },
     "execution_count": 402,
     "metadata": {},
     "output_type": "execute_result"
    }
   ],
   "source": [
    "df.shape"
   ]
  },
  {
   "cell_type": "code",
   "execution_count": 403,
   "id": "920bfa49",
   "metadata": {},
   "outputs": [],
   "source": [
    "Y=car_data['Price']                           #defining the dependent and independent variables.\n",
    "X=car_data.drop(['Price'],axis=1)             #Here,'Price' is the dependent variable and 'Year' is the independent variable"
   ]
  },
  {
   "cell_type": "code",
   "execution_count": 404,
   "id": "c4054a8b",
   "metadata": {},
   "outputs": [
    {
     "data": {
      "text/plain": [
       "0    465000\n",
       "1    755000\n",
       "2    700000\n",
       "3    465000\n",
       "4    465000\n",
       "Name: Price, dtype: int64"
      ]
     },
     "execution_count": 404,
     "metadata": {},
     "output_type": "execute_result"
    }
   ],
   "source": [
    "Y.head()"
   ]
  },
  {
   "cell_type": "code",
   "execution_count": 405,
   "id": "1e571bba",
   "metadata": {},
   "outputs": [
    {
     "data": {
      "text/html": [
       "<div>\n",
       "<style scoped>\n",
       "    .dataframe tbody tr th:only-of-type {\n",
       "        vertical-align: middle;\n",
       "    }\n",
       "\n",
       "    .dataframe tbody tr th {\n",
       "        vertical-align: top;\n",
       "    }\n",
       "\n",
       "    .dataframe thead th {\n",
       "        text-align: right;\n",
       "    }\n",
       "</style>\n",
       "<table border=\"1\" class=\"dataframe\">\n",
       "  <thead>\n",
       "    <tr style=\"text-align: right;\">\n",
       "      <th></th>\n",
       "      <th>Year</th>\n",
       "    </tr>\n",
       "  </thead>\n",
       "  <tbody>\n",
       "    <tr>\n",
       "      <th>0</th>\n",
       "      <td>2018</td>\n",
       "    </tr>\n",
       "    <tr>\n",
       "      <th>1</th>\n",
       "      <td>2019</td>\n",
       "    </tr>\n",
       "    <tr>\n",
       "      <th>2</th>\n",
       "      <td>2019</td>\n",
       "    </tr>\n",
       "    <tr>\n",
       "      <th>3</th>\n",
       "      <td>2018</td>\n",
       "    </tr>\n",
       "    <tr>\n",
       "      <th>4</th>\n",
       "      <td>2018</td>\n",
       "    </tr>\n",
       "  </tbody>\n",
       "</table>\n",
       "</div>"
      ],
      "text/plain": [
       "   Year\n",
       "0  2018\n",
       "1  2019\n",
       "2  2019\n",
       "3  2018\n",
       "4  2018"
      ]
     },
     "execution_count": 405,
     "metadata": {},
     "output_type": "execute_result"
    }
   ],
   "source": [
    "X.head()"
   ]
  },
  {
   "cell_type": "code",
   "execution_count": 406,
   "id": "11362bc8",
   "metadata": {},
   "outputs": [],
   "source": [
    "from sklearn.model_selection import train_test_split"
   ]
  },
  {
   "cell_type": "code",
   "execution_count": 407,
   "id": "249a1aad",
   "metadata": {},
   "outputs": [],
   "source": [
    "X_train,X_test,Y_train,Y_test=train_test_split(X,Y,test_size=0.20,random_state=40)    #splitting the data for training\n",
    "#Here,training set has 80% of the data and the test set has 20% of the data."
   ]
  },
  {
   "cell_type": "code",
   "execution_count": 408,
   "id": "2d6d1078",
   "metadata": {},
   "outputs": [
    {
     "data": {
      "text/plain": [
       "(    Year\n",
       " 45  2018\n",
       " 39  2020\n",
       " 38  2018\n",
       " 62  2017\n",
       " 32  2017\n",
       " ..   ...\n",
       " 56  2014\n",
       " 37  2017\n",
       " 7   2017\n",
       " 91  2017\n",
       " 70  2015\n",
       " \n",
       " [89 rows x 1 columns],\n",
       "      Year\n",
       " 48   2016\n",
       " 72   2015\n",
       " 80   2015\n",
       " 77   2015\n",
       " 17   2017\n",
       " 29   2017\n",
       " 47   2018\n",
       " 2    2019\n",
       " 111  2015\n",
       " 64   2015\n",
       " 23   2017\n",
       " 4    2018\n",
       " 98   2020\n",
       " 16   2017\n",
       " 40   2019\n",
       " 42   2018\n",
       " 76   2015\n",
       " 81   2014\n",
       " 11   2018\n",
       " 15   2017\n",
       " 82   2015\n",
       " 85   2015\n",
       " 51   2018)"
      ]
     },
     "execution_count": 408,
     "metadata": {},
     "output_type": "execute_result"
    }
   ],
   "source": [
    "X_train,X_test"
   ]
  },
  {
   "cell_type": "code",
   "execution_count": 409,
   "id": "df10c3ec",
   "metadata": {},
   "outputs": [
    {
     "data": {
      "text/plain": [
       "(45    450000\n",
       " 39    545000\n",
       " 38    475000\n",
       " 62    540000\n",
       " 32    550000\n",
       "        ...  \n",
       " 56    341000\n",
       " 37    486000\n",
       " 7     575000\n",
       " 91    520000\n",
       " 70    450000\n",
       " Name: Price, Length: 89, dtype: int64,\n",
       " 48     396000\n",
       " 72     300000\n",
       " 80     390000\n",
       " 77     325000\n",
       " 17     550000\n",
       " 29     550000\n",
       " 47     450000\n",
       " 2      700000\n",
       " 111    425000\n",
       " 64     490000\n",
       " 23     550000\n",
       " 4      465000\n",
       " 98     700000\n",
       " 16     500000\n",
       " 40     525000\n",
       " 42     550000\n",
       " 76     450000\n",
       " 81     390000\n",
       " 11     500000\n",
       " 15     500000\n",
       " 82     390000\n",
       " 85     320000\n",
       " 51     550000\n",
       " Name: Price, dtype: int64)"
      ]
     },
     "execution_count": 409,
     "metadata": {},
     "output_type": "execute_result"
    }
   ],
   "source": [
    "Y_train,Y_test"
   ]
  },
  {
   "cell_type": "code",
   "execution_count": 410,
   "id": "3feaa21c",
   "metadata": {},
   "outputs": [],
   "source": [
    "from sklearn.linear_model import Lasso       #importing library for Lasso regression"
   ]
  },
  {
   "cell_type": "code",
   "execution_count": 411,
   "id": "9b8395cf",
   "metadata": {},
   "outputs": [],
   "source": [
    "lasso=Lasso(alpha=1)                          #Fitting the model using Lasso Regression\n",
    "model_lasso=lasso.fit(X_train,Y_train)\n",
    "Y_pred=lasso.predict(X_test)                  #Predicting the values"
   ]
  },
  {
   "cell_type": "code",
   "execution_count": 412,
   "id": "23701635",
   "metadata": {},
   "outputs": [
    {
     "data": {
      "text/plain": [
       "(array([457777.46839219, 416364.09650727, 416364.09650727, 416364.09650727,\n",
       "        499190.84027712, 499190.84027712, 540604.21216203, 582017.58404696,\n",
       "        416364.09650727, 416364.09650727, 499190.84027712, 540604.21216203,\n",
       "        623430.95593189, 499190.84027712, 582017.58404696, 540604.21216203,\n",
       "        416364.09650727, 374950.72462235, 540604.21216203, 499190.84027712,\n",
       "        416364.09650727, 416364.09650727, 540604.21216203]),\n",
       " 48     396000\n",
       " 72     300000\n",
       " 80     390000\n",
       " 77     325000\n",
       " 17     550000\n",
       " 29     550000\n",
       " 47     450000\n",
       " 2      700000\n",
       " 111    425000\n",
       " 64     490000\n",
       " 23     550000\n",
       " 4      465000\n",
       " 98     700000\n",
       " 16     500000\n",
       " 40     525000\n",
       " 42     550000\n",
       " 76     450000\n",
       " 81     390000\n",
       " 11     500000\n",
       " 15     500000\n",
       " 82     390000\n",
       " 85     320000\n",
       " 51     550000\n",
       " Name: Price, dtype: int64)"
      ]
     },
     "execution_count": 412,
     "metadata": {},
     "output_type": "execute_result"
    }
   ],
   "source": [
    "Y_pred,Y_test"
   ]
  },
  {
   "cell_type": "code",
   "execution_count": 413,
   "id": "69774b0f",
   "metadata": {},
   "outputs": [],
   "source": [
    "from sklearn.metrics import mean_squared_error,r2_score"
   ]
  },
  {
   "cell_type": "code",
   "execution_count": 414,
   "id": "9e142032",
   "metadata": {},
   "outputs": [
    {
     "name": "stdout",
     "output_type": "stream",
     "text": [
      "3902842874.2561088\n",
      "0.14502601577391672\n"
     ]
    }
   ],
   "source": [
    "print(mean_squared_error(Y_pred,Y_test))    #Finding the error values\n",
    "print(r2_score(Y_pred,Y_test))"
   ]
  },
  {
   "cell_type": "code",
   "execution_count": 415,
   "id": "6fd34927",
   "metadata": {},
   "outputs": [],
   "source": [
    "lasso_coeff=pd.DataFrame()"
   ]
  },
  {
   "cell_type": "code",
   "execution_count": 416,
   "id": "8c4bf998",
   "metadata": {},
   "outputs": [],
   "source": [
    "lasso_coeff[\"Columns\"]=X_train.columns"
   ]
  },
  {
   "cell_type": "code",
   "execution_count": 417,
   "id": "3a3fb021",
   "metadata": {},
   "outputs": [],
   "source": [
    "lasso_coeff['Coefficient Estimate']=pd.Series(lasso.coef_)"
   ]
  },
  {
   "cell_type": "code",
   "execution_count": 418,
   "id": "4791ed78",
   "metadata": {},
   "outputs": [
    {
     "name": "stdout",
     "output_type": "stream",
     "text": [
      "  Columns  Coefficient Estimate\n",
      "0    Year          41413.371885\n"
     ]
    }
   ],
   "source": [
    "print(lasso_coeff)"
   ]
  },
  {
   "cell_type": "code",
   "execution_count": 419,
   "id": "57833edb",
   "metadata": {},
   "outputs": [
    {
     "name": "stderr",
     "output_type": "stream",
     "text": [
      "C:\\Users\\DELL\\anaconda3\\lib\\site-packages\\sklearn\\base.py:420: UserWarning: X does not have valid feature names, but Lasso was fitted with feature names\n",
      "  warnings.warn(\n"
     ]
    }
   ],
   "source": [
    "b=model_lasso.predict([[2022]])     #Predicting the value of the car in the year 2022."
   ]
  },
  {
   "cell_type": "code",
   "execution_count": 420,
   "id": "ae77cf5d",
   "metadata": {},
   "outputs": [
    {
     "name": "stdout",
     "output_type": "stream",
     "text": [
      "[706257.69970173]\n"
     ]
    }
   ],
   "source": [
    "print(b)"
   ]
  },
  {
   "cell_type": "markdown",
   "id": "5dc82a98",
   "metadata": {},
   "source": [
    "The mean squared error is obtained as 3902842874.2561088 and the r-square value is obtained as 0.14502601577391672 using Lasso Regression."
   ]
  },
  {
   "cell_type": "markdown",
   "id": "dc1c4a4b",
   "metadata": {},
   "source": [
    "The price of the car in the year 2022 is predicted as Rs.706258 approximately."
   ]
  },
  {
   "cell_type": "markdown",
   "id": "de0b3db9",
   "metadata": {},
   "source": [
    "Here,we can see that there is no much difference between the prices predicted by both lasso regression and linear regression.\n",
    "Mean squared error is also somewhat same for both the models."
   ]
  },
  {
   "cell_type": "markdown",
   "id": "f3507f68",
   "metadata": {},
   "source": [
    "But the r-squared value has significant difference between them.Linear regression model has an r-squared value of 0.63 and the Lasso Regression model has r-square value as 0.145.Higher the R-square value,better the model fits your data.Therefore,the best model is fitted using Linear Regression."
   ]
  }
 ],
 "metadata": {
  "kernelspec": {
   "display_name": "Python 3 (ipykernel)",
   "language": "python",
   "name": "python3"
  },
  "language_info": {
   "codemirror_mode": {
    "name": "ipython",
    "version": 3
   },
   "file_extension": ".py",
   "mimetype": "text/x-python",
   "name": "python",
   "nbconvert_exporter": "python",
   "pygments_lexer": "ipython3",
   "version": "3.10.9"
  }
 },
 "nbformat": 4,
 "nbformat_minor": 5
}
